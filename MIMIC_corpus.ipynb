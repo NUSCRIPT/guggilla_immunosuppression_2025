{
 "cells": [
  {
   "cell_type": "code",
   "execution_count": null,
   "metadata": {},
   "outputs": [],
   "source": [
    "# Import necessary libraries\n",
    "import numpy as np\n",
    "import os\n",
    "import pandas as pd\n",
    "import matplotlib.pyplot as plt\n",
    "import matplotlib.patches as patches\n",
    "import matplotlib.path as path\n",
    "import seaborn as sns\n",
    "from IPython.display import display, HTML\n",
    "from google.colab import auth\n",
    "from google.cloud import bigquery"
   ]
  },
  {
   "cell_type": "code",
   "execution_count": null,
   "metadata": {},
   "outputs": [],
   "source": [
    "auth.authenticate_user()"
   ]
  },
  {
   "cell_type": "code",
   "execution_count": null,
   "metadata": {},
   "outputs": [],
   "source": [
    "project_id = 'INSERT PROJECT ID'\n",
    "client = bigquery.Client(project = project_id)"
   ]
  },
  {
   "cell_type": "markdown",
   "metadata": {},
   "source": [
    "# Find hospital admissions for mechanically ventilated patients who stayed in the MICU"
   ]
  },
  {
   "cell_type": "code",
   "execution_count": null,
   "metadata": {},
   "outputs": [],
   "source": [
    "vented = client.query('''\n",
    "SELECT *\n",
    "FROM `physionet-data.mimiciii_derived.ventilation_classification` v\n",
    "JOIN `physionet-data.mimiciii_clinical.icustays` icu\n",
    "  ON v.icustay_id = icu.ICUSTAY_ID\n",
    "WHERE\n",
    "v.MechVent = 1\n",
    "AND\n",
    "icu.FIRST_CAREUNIT LIKE '%MICU%'\n",
    "AND\n",
    "icu.LAST_CAREUNIT LIKE '%MICU%'\n",
    "''').to_dataframe()\n",
    "\n",
    "vented.shape"
   ]
  },
  {
   "cell_type": "code",
   "execution_count": null,
   "metadata": {},
   "outputs": [],
   "source": [
    "vented_unique = vented.drop_duplicates(subset=['HADM_ID'])\n",
    "vented_unique.shape"
   ]
  },
  {
   "cell_type": "markdown",
   "metadata": {},
   "source": [
    "# Find hospital admissions for patients who had a diagnosis of pneumonia"
   ]
  },
  {
   "cell_type": "code",
   "execution_count": null,
   "metadata": {},
   "outputs": [],
   "source": [
    "pneumonia = client.query('''\n",
    "SELECT *\n",
    "FROM `physionet-data.mimiciii_clinical.diagnoses_icd` dx\n",
    "JOIN `physionet-data.mimiciii_clinical.d_icd_diagnoses` icd\n",
    "  ON dx.ICD9_CODE = icd.ICD9_CODE\n",
    "WHERE\n",
    "icd.LONG_TITLE LIKE '%pneumonia%'\n",
    "''').to_dataframe()\n",
    "\n",
    "pneumonia.shape"
   ]
  },
  {
   "cell_type": "code",
   "execution_count": null,
   "metadata": {},
   "outputs": [],
   "source": [
    "pneumonia_unique = pneumonia.drop_duplicates(subset=['HADM_ID'])\n",
    "pneumonia_unique.shape"
   ]
  },
  {
   "cell_type": "code",
   "execution_count": null,
   "metadata": {},
   "outputs": [],
   "source": [
    "names_to_remove = [\n",
    "    'Other specified vaccinations against streptococcus pneumoniae [pneumococcus]',\n",
    "    'Need for prophylactic vaccination and inoculation against streptococcus pneumoniae [pneumococcus] and influenza',\n",
    "    'Cryptogenic organizing pneumonia',\n",
    "    'Congenital pneumonia',\n",
    "    'Abscess of lung without pneumonia',\n",
    "    'Congenital pneumonia, unspecified',\n",
    "    'Congenital pneumonia due to staphylococcus',\n",
    "    'Idiopathic interstitial pneumonia, not otherwise specified',\n",
    "    'Congenital pneumonia due to other bacterial agents',\n",
    "    'Desquamative interstitial pneumonia',\n",
    "    'Congenital pneumonia due to Escherichia coli',\n",
    "    'Infection by Histoplasma capsulatum, pneumonia',\n",
    "    'Tuberculous pneumonia [any form], tubercle bacilli found (in sputum) by microscopy',\n",
    "    'Whooping cough, unspecified species without pneumonia',\n",
    "    'Congenital pneumonia due to Pseudomonas',\n",
    "    'Congenital pneumonia due to viral agent',\n",
    "    'Hypostatic pneumonia, unspecified organism',\n",
    "    'Lymphoid interstitial pneumonia',\n",
    "    'Congenital pneumonia due to streptococcus, group B',\n",
    "    'Tuberculous pneumonia [any form], tubercle bacilli not found (in sputum) by microscopy, but found by bacterial culture',\n",
    "    'Tuberculous pneumonia [any form], unspecified',\n",
    "    'Idiopathic lymphoid interstitial pneumonia'\n",
    "]\n",
    "\n",
    "pneumonia_clean= pneumonia_unique[~pneumonia_unique['LONG_TITLE'].isin(names_to_remove)]"
   ]
  },
  {
   "cell_type": "code",
   "execution_count": null,
   "metadata": {},
   "outputs": [],
   "source": [
    "pneumonia_clean.shape"
   ]
  },
  {
   "cell_type": "markdown",
   "metadata": {},
   "source": [
    "# Merge the hospital admissions for the mechanically ventilated MICU patients and the pneumonia patients"
   ]
  },
  {
   "cell_type": "code",
   "execution_count": null,
   "metadata": {},
   "outputs": [],
   "source": [
    "vent_pneumo_cohort = vented_unique.merge(pneumonia_clean, how='inner', on='HADM_ID', indicator=True)\n",
    "vent_pneumo_cohort.shape"
   ]
  },
  {
   "cell_type": "code",
   "execution_count": null,
   "metadata": {},
   "outputs": [],
   "source": [
    "cohort_hadm_ids = pd.DataFrame(vent_pneumo_cohort['HADM_ID'])"
   ]
  },
  {
   "cell_type": "markdown",
   "metadata": {},
   "source": [
    "# Find the admission notes for the hospital admissions represented in our cohort"
   ]
  },
  {
   "cell_type": "code",
   "execution_count": null,
   "metadata": {},
   "outputs": [],
   "source": [
    "all_admission_notes = client.query('''\n",
    "SELECT * FROM `physionet-data.mimiciii_notes.noteevents` n\n",
    "WHERE n.DESCRIPTION like \"%Admission%\"\n",
    "''').to_dataframe()"
   ]
  },
  {
   "cell_type": "code",
   "execution_count": null,
   "metadata": {},
   "outputs": [],
   "source": [
    "all_admission_notes.shape"
   ]
  },
  {
   "cell_type": "code",
   "execution_count": null,
   "metadata": {},
   "outputs": [],
   "source": [
    "cohort_admission_notes = cohort_hadm_ids.merge(all_admission_notes, how='inner', on='HADM_ID', indicator=True)"
   ]
  },
  {
   "cell_type": "code",
   "execution_count": null,
   "metadata": {},
   "outputs": [],
   "source": [
    "note_types_to_remove = [\n",
    "    'Social Work Admission Note',\n",
    "    'Physician Surgical Admission Note',\n",
    "    'Physician Attending / Resident Admission Note - MI',\n",
    "    'ICU Fellow Admission Note - MICU attending addendum',\n",
    "    'Physician Fellow Admission Note - MICU attending addendum',\n",
    "]\n",
    "\n",
    "cohort_admission_notes_clean= cohort_admission_notes[~cohort_admission_notes['DESCRIPTION'].isin(note_types_to_remove)]"
   ]
  },
  {
   "cell_type": "code",
   "execution_count": null,
   "metadata": {},
   "outputs": [],
   "source": [
    "cohort_admission_notes_clean.shape"
   ]
  },
  {
   "cell_type": "markdown",
   "metadata": {},
   "source": [
    "# Isolate the unique patient hospital admission events these notes represent (so we can take one note for every hospital admission event)"
   ]
  },
  {
   "cell_type": "code",
   "execution_count": null,
   "metadata": {},
   "outputs": [],
   "source": [
    "len(cohort_admission_notes_clean.HADM_ID.unique())\n",
    "\n",
    "# Export notes corpus as needed"
   ]
  }
 ],
 "metadata": {
  "kernelspec": {
   "display_name": "ID_IC",
   "language": "python",
   "name": "python3"
  },
  "language_info": {
   "name": "python",
   "version": "3.12.4"
  }
 },
 "nbformat": 4,
 "nbformat_minor": 2
}
